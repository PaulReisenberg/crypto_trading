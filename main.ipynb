{
 "cells": [
  {
   "cell_type": "code",
   "execution_count": 2,
   "id": "8d6558d3",
   "metadata": {},
   "outputs": [
    {
     "name": "stdout",
     "output_type": "stream",
     "text": [
      "The autoreload extension is already loaded. To reload it, use:\n",
      "  %reload_ext autoreload\n"
     ]
    }
   ],
   "source": [
    "%load_ext autoreload\n",
    "%autoreload 2\n",
    "\n",
    "import matplotlib.pyplot as plt\n",
    "import numpy as np\n",
    "import seaborn as sns\n",
    "from scipy.stats import norm\n",
    "from order_book import *\n",
    "from ml import *\n",
    "from ml_models_pt import *"
   ]
  },
  {
   "cell_type": "markdown",
   "id": "b2678b6c",
   "metadata": {},
   "source": [
    "### Load Data"
   ]
  },
  {
   "cell_type": "code",
   "execution_count": 117,
   "id": "6f484215",
   "metadata": {},
   "outputs": [
    {
     "name": "stdout",
     "output_type": "stream",
     "text": [
      "2025-04-01\n",
      "2025-04-02\n",
      "2025-04-03\n",
      "2025-04-04\n",
      "2025-04-05\n",
      "2025-04-06\n",
      "2025-04-07\n",
      "2025-04-08\n",
      "2025-04-09\n",
      "2025-04-10\n"
     ]
    }
   ],
   "source": [
    "bucket_snapshots = load_as_bucket_snapshots(\n",
    "    folder = 'data/',\n",
    "    contract = 'CAKEUSDT',\n",
    "    start_date = datetime(2025, 4, 1),\n",
    "    end_date = datetime(2025, 4, 10),\n",
    "    td = timedelta(seconds=10),\n",
    "    num_buckets = 10,\n",
    "    bucket_size = 0.01)"
   ]
  },
  {
   "cell_type": "code",
   "execution_count": 357,
   "id": "f887a9ea",
   "metadata": {},
   "outputs": [],
   "source": [
    "X_data, X_aux, Y_data = build_bucket_data_set(\n",
    "    bucket_snapshots=bucket_snapshots,\n",
    "    horizon=6,\n",
    "    window_len=50,\n",
    "    steps_between=10)"
   ]
  },
  {
   "cell_type": "code",
   "execution_count": 358,
   "id": "8ee9dee3",
   "metadata": {},
   "outputs": [],
   "source": [
    "train_split = int(len(X_data) * 0.8)\n",
    "x_train, x_train_aux, y_train = X_data[:train_split], X_aux[:train_split], Y_data[:train_split]\n",
    "x_val, x_val_aux, y_val = X_data[train_split:], X_aux[train_split:], Y_data[train_split:]"
   ]
  },
  {
   "cell_type": "markdown",
   "id": "b3388529",
   "metadata": {},
   "source": [
    "### Normalize Data"
   ]
  },
  {
   "cell_type": "code",
   "execution_count": 254,
   "id": "bf8670af",
   "metadata": {},
   "outputs": [],
   "source": [
    "def signed_log_transform(x):\n",
    "    \"\"\"Apply sign-preserving log transformation to data.\"\"\"\n",
    "    # Get the sign of the data\n",
    "    signs = np.sign(x)\n",
    "    log_abs = np.log1p(np.abs(x))\n",
    "    return signs * log_abs"
   ]
  },
  {
   "cell_type": "code",
   "execution_count": 255,
   "id": "00b6b207",
   "metadata": {},
   "outputs": [],
   "source": [
    "x_train = signed_log_transform(x_train)\n",
    "x_val = signed_log_transform(x_val)"
   ]
  },
  {
   "cell_type": "code",
   "execution_count": null,
   "id": "af9e5e41",
   "metadata": {},
   "outputs": [],
   "source": []
  },
  {
   "cell_type": "code",
   "execution_count": 360,
   "id": "999eb87d",
   "metadata": {},
   "outputs": [],
   "source": [
    "target_std = np.std(y_train, axis=0)\n",
    "\n",
    "y_train = y_train / target_std\n",
    "y_val = y_val / target_std"
   ]
  },
  {
   "cell_type": "code",
   "execution_count": 361,
   "id": "a2fb0702",
   "metadata": {},
   "outputs": [],
   "source": [
    "# remove outliers\n",
    "keep = (y_train < 4) & (y_train > -4)\n",
    "y_train = y_train[keep]\n",
    "x_train = x_train[keep]\n",
    "x_train_aux = x_train_aux[keep]"
   ]
  },
  {
   "cell_type": "code",
   "execution_count": 347,
   "id": "e6c5b5b9",
   "metadata": {},
   "outputs": [],
   "source": [
    "# Compute mean and std along the samples axis (axis 0)\n",
    "train_mean = np.mean(x_train, axis=0)\n",
    "train_std = np.std(x_train, axis=0)\n",
    "\n",
    "# Normalize while preserving 3D structure\n",
    "x_train = (x_train - train_mean) / train_std\n",
    "x_val = (x_val - train_mean) / train_std"
   ]
  },
  {
   "cell_type": "markdown",
   "id": "5c16b9c1",
   "metadata": {},
   "source": [
    "### Visualization"
   ]
  },
  {
   "cell_type": "code",
   "execution_count": 362,
   "id": "079970dc",
   "metadata": {},
   "outputs": [
    {
     "data": {
      "image/png": "[encoded data removed]",
      "text/plain": [
       "<Figure size 1500x300 with 2 Axes>"
      ]
     },
     "metadata": {},
     "output_type": "display_data"
    }
   ],
   "source": [
    "plt.figure(figsize=(15, 3))\n",
    "sns.heatmap(x_train[300].T, cmap='viridis_r')#, vmin=-5, vmax=5)\n",
    "plt.gca().invert_yaxis()\n",
    "plt.show()"
   ]
  },
  {
   "cell_type": "code",
   "execution_count": 363,
   "id": "c5faf1ef",
   "metadata": {},
   "outputs": [
    {
     "name": "stdout",
     "output_type": "stream",
     "text": [
      "up-trends: 0.40669014084507044\n",
      "down-trends: 0.42488262910798125\n"
     ]
    }
   ],
   "source": [
    "print(f\"up-trends: {(y_val < 0).sum()/len(y_val)}\")\n",
    "print(f\"down-trends: {(y_val > 0).sum()/len(y_val)}\")"
   ]
  },
  {
   "cell_type": "markdown",
   "id": "2b4cd8c0",
   "metadata": {},
   "source": [
    "### Model Training"
   ]
  },
  {
   "cell_type": "code",
   "execution_count": 364,
   "id": "1c8d82ea",
   "metadata": {},
   "outputs": [],
   "source": [
    "train_dataset = OrderBookDataset(x_train, x_train_aux, y_train)\n",
    "val_dataset = OrderBookDataset(x_val, x_val_aux, y_val)"
   ]
  },
  {
   "cell_type": "code",
   "execution_count": 365,
   "id": "b05ecdd7",
   "metadata": {},
   "outputs": [],
   "source": [
    "train_loader = DataLoader(train_dataset, batch_size=8, shuffle=True)"
   ]
  },
  {
   "cell_type": "code",
   "execution_count": 366,
   "id": "604bad22",
   "metadata": {},
   "outputs": [],
   "source": [
    "model = OrderBookModel(\n",
    "    input_size=50*20, \n",
    "    aux_size=50*5,\n",
    "    hidden_size=128, \n",
    "    output_size=1, \n",
    "    dropout_rate=0.0\n",
    ")"
   ]
  },
  {
   "cell_type": "code",
   "execution_count": 352,
   "id": "85288878",
   "metadata": {},
   "outputs": [],
   "source": [
    "class SimpleOverfitModel(nn.Module):\n",
    "    def __init__(self, input_size=50*20, aux_size=50*5, output_size=1):\n",
    "        super(SimpleOverfitModel, self).__init__()\n",
    "        total_features = input_size + aux_size\n",
    "        self.net = nn.Sequential(\n",
    "            nn.Linear(total_features, 1024),\n",
    "            nn.BatchNorm1d(1024),\n",
    "            nn.ReLU(),\n",
    "            nn.Linear(1024, 512),\n",
    "            nn.BatchNorm1d(512),\n",
    "            nn.ReLU(),\n",
    "            nn.Linear(512, output_size)\n",
    "        )\n",
    "        \n",
    "    def forward(self, x, aux_features):\n",
    "        batch_size = x.size(0)\n",
    "        x = x.view(batch_size, -1)\n",
    "        aux_features = aux_features.view(batch_size, -1)\n",
    "        combined = torch.cat([x, aux_features], dim=1)\n",
    "        output = self.net(combined)\n",
    "        return output.view(batch_size, 1, -1)"
   ]
  },
  {
   "cell_type": "code",
   "execution_count": 367,
   "id": "ef2ce58e",
   "metadata": {},
   "outputs": [],
   "source": [
    "#model = SimpleOverfitModel()\n",
    "criterion = nn.MSELoss()\n",
    "optimizer = optim.Adam(model.parameters(), lr=0.001)"
   ]
  },
  {
   "cell_type": "code",
   "execution_count": 368,
   "id": "011a2059",
   "metadata": {},
   "outputs": [
    {
     "name": "stderr",
     "output_type": "stream",
     "text": [
      "/opt/anaconda3/envs/trading/lib/python3.11/site-packages/torch/nn/modules/loss.py:535: UserWarning: Using a target size (torch.Size([8])) that is different to the input size (torch.Size([8, 1, 1])). This will likely lead to incorrect results due to broadcasting. Please ensure they have the same size.\n",
      "  return F.mse_loss(input, target, reduction=self.reduction)\n",
      "/opt/anaconda3/envs/trading/lib/python3.11/site-packages/torch/nn/modules/loss.py:535: UserWarning: Using a target size (torch.Size([4])) that is different to the input size (torch.Size([4, 1, 1])). This will likely lead to incorrect results due to broadcasting. Please ensure they have the same size.\n",
      "  return F.mse_loss(input, target, reduction=self.reduction)\n"
     ]
    },
    {
     "name": "stdout",
     "output_type": "stream",
     "text": [
      "Epoch 1/10, Loss: 0.6962\n",
      "Epoch 2/10, Loss: 0.6956\n",
      "Epoch 3/10, Loss: 0.6959\n",
      "Epoch 4/10, Loss: 0.6954\n",
      "Epoch 5/10, Loss: 0.6951\n",
      "Epoch 6/10, Loss: 0.6964\n",
      "Epoch 7/10, Loss: 0.6951\n",
      "Epoch 8/10, Loss: 0.6950\n",
      "Epoch 9/10, Loss: 0.6954\n",
      "Epoch 10/10, Loss: 0.6954\n"
     ]
    }
   ],
   "source": [
    "# Train the model\n",
    "trained_model, losses = train_model(model, train_loader, criterion, optimizer, num_epochs=10)"
   ]
  },
  {
   "cell_type": "code",
   "execution_count": 369,
   "id": "5a9acc91",
   "metadata": {},
   "outputs": [
    {
     "name": "stdout",
     "output_type": "stream",
     "text": [
      "Processing 1704 samples...\n",
      "\n",
      "Confusion Matrix (% of Total Samples):\n",
      "┌────────────┬─────────────────┬─────────────────┬─────────────┐\n",
      "│            │ Predicted Down  │  Predicted Up   │    Total    │\n",
      "├────────────┼─────────────────┼─────────────────┼───────── ───┤\n",
      "│ Actual Down│      16.0%      │      32.9%      │    48.9%    │\n",
      "├────────────┼─────────────────┼─────────────────┼─────────────┤\n",
      "│ Actual Up  │      13.8%      │      37.3%      │    51.1%    │\n",
      "├────────────┼─────────────────┼─────────────────┼─────────────┤\n",
      "│ Total      │      29.8%      │      70.2%      │   100.0%    │\n",
      "└────────────┴─────────────────┴─────────────────┴─────────────┘\n",
      "\n",
      "Overall accuracy: 53.4%\n",
      "\n",
      "Trend Prediction:\n",
      "Correct trends: 756/1417 (53.35%)\n",
      "Up trend accuracy:   73.07%\n",
      "Down trend accuracy: 32.76%\n"
     ]
    },
    {
     "data": {
      "image/png": "[encoded data removed]",
      "text/plain": [
       "<Figure size 800x500 with 1 Axes>"
      ]
     },
     "metadata": {},
     "output_type": "display_data"
    }
   ],
   "source": [
    "# Evaluate with val data\n",
    "y_pred_val = evaluate_trend_prediction(trained_model, x_val, x_val_aux, y_val)"
   ]
  },
  {
   "cell_type": "code",
   "execution_count": 328,
   "id": "13de131e",
   "metadata": {},
   "outputs": [
    {
     "name": "stdout",
     "output_type": "stream",
     "text": [
      "Processing 6780 samples...\n",
      "\n",
      "Confusion Matrix (% of Total Samples):\n",
      "┌────────────┬─────────────────┬─────────────────┬─────────────┐\n",
      "│            │ Predicted Down  │  Predicted Up   │    Total    │\n",
      "├────────────┼─────────────────┼─────────────────┼───────── ───┤\n",
      "│ Actual Down│       0.0%      │      50.7%      │    50.7%    │\n",
      "├────────────┼─────────────────┼─────────────────┼─────────────┤\n",
      "│ Actual Up  │       0.0%      │      49.3%      │    49.3%    │\n",
      "├────────────┼─────────────────┼─────────────────┼─────────────┤\n",
      "│ Total      │       0.0%      │     100.0%      │   100.0%    │\n",
      "└────────────┴─────────────────┴─────────────────┴─────────────┘\n",
      "\n",
      "Overall accuracy: 49.3%\n",
      "\n",
      "Trend Prediction:\n",
      "Correct trends: 2561/5196 (49.29%)\n",
      "Up trend accuracy:   100.00%\n",
      "Down trend accuracy: 0.00%\n"
     ]
    },
    {
     "data": {
      "image/png": "[encoded data removed]",
      "text/plain": [
       "<Figure size 800x500 with 1 Axes>"
      ]
     },
     "metadata": {},
     "output_type": "display_data"
    }
   ],
   "source": [
    "# Evaluate with your test data\n",
    "y_pred_train = evaluate_trend_prediction(trained_model, x_train, x_train_aux, y_train)"
   ]
  },
  {
   "cell_type": "code",
   "execution_count": null,
   "id": "aa0e783d",
   "metadata": {},
   "outputs": [],
   "source": []
  },
  {
   "cell_type": "code",
   "execution_count": 59,
   "id": "efabed0d",
   "metadata": {},
   "outputs": [],
   "source": []
  },
  {
   "cell_type": "code",
   "execution_count": null,
   "id": "1005ccad",
   "metadata": {},
   "outputs": [],
   "source": []
  },
  {
   "cell_type": "code",
   "execution_count": null,
   "id": "a1c8e928",
   "metadata": {},
   "outputs": [],
   "source": []
  },
  {
   "cell_type": "code",
   "execution_count": null,
   "id": "80b427de",
   "metadata": {},
   "outputs": [],
   "source": []
  },
  {
   "cell_type": "code",
   "execution_count": null,
   "id": "56a02055",
   "metadata": {},
   "outputs": [],
   "source": []
  },
  {
   "cell_type": "code",
   "execution_count": null,
   "id": "f6b5ba0f",
   "metadata": {},
   "outputs": [],
   "source": []
  },
  {
   "cell_type": "code",
   "execution_count": null,
   "id": "09fedf64",
   "metadata": {},
   "outputs": [],
   "source": []
  },
  {
   "cell_type": "code",
   "execution_count": null,
   "id": "ce175c11",
   "metadata": {},
   "outputs": [],
   "source": []
  },
  {
   "cell_type": "code",
   "execution_count": null,
   "id": "abf634eb",
   "metadata": {},
   "outputs": [],
   "source": []
  },
  {
   "cell_type": "code",
   "execution_count": null,
   "id": "672dfcfa",
   "metadata": {
    "scrolled": true
   },
   "outputs": [],
   "source": []
  },
  {
   "cell_type": "code",
   "execution_count": 34,
   "id": "8d7cf346",
   "metadata": {},
   "outputs": [],
   "source": []
  },
  {
   "cell_type": "code",
   "execution_count": 31,
   "id": "92ae452e",
   "metadata": {},
   "outputs": [],
   "source": []
  },
  {
   "cell_type": "code",
   "execution_count": 50,
   "id": "d45e0357",
   "metadata": {},
   "outputs": [],
   "source": []
  },
  {
   "cell_type": "code",
   "execution_count": null,
   "id": "16aefd79",
   "metadata": {},
   "outputs": [],
   "source": []
  },
  {
   "cell_type": "code",
   "execution_count": 41,
   "id": "83ea83d1",
   "metadata": {},
   "outputs": [],
   "source": []
  },
  {
   "cell_type": "code",
   "execution_count": null,
   "id": "b0b592f1",
   "metadata": {},
   "outputs": [],
   "source": []
  },
  {
   "cell_type": "code",
   "execution_count": null,
   "id": "ebb5d41e",
   "metadata": {},
   "outputs": [],
   "source": []
  },
  {
   "cell_type": "code",
   "execution_count": null,
   "id": "a8907ace",
   "metadata": {},
   "outputs": [],
   "source": []
  },
  {
   "cell_type": "code",
   "execution_count": null,
   "id": "51ee1c34",
   "metadata": {},
   "outputs": [],
   "source": []
  },
  {
   "cell_type": "code",
   "execution_count": null,
   "id": "7c861dd3",
   "metadata": {},
   "outputs": [],
   "source": []
  },
  {
   "cell_type": "code",
   "execution_count": null,
   "id": "489a8886",
   "metadata": {},
   "outputs": [],
   "source": []
  },
  {
   "cell_type": "code",
   "execution_count": null,
   "id": "c073f682",
   "metadata": {},
   "outputs": [],
   "source": []
  },
  {
   "cell_type": "code",
   "execution_count": null,
   "id": "264d50f6",
   "metadata": {},
   "outputs": [],
   "source": []
  },
  {
   "cell_type": "code",
   "execution_count": null,
   "id": "10627e63",
   "metadata": {},
   "outputs": [],
   "source": []
  },
  {
   "cell_type": "code",
   "execution_count": null,
   "id": "c0870b4d",
   "metadata": {},
   "outputs": [],
   "source": []
  },
  {
   "cell_type": "code",
   "execution_count": null,
   "id": "4a21af3b",
   "metadata": {},
   "outputs": [],
   "source": []
  },
  {
   "cell_type": "code",
   "execution_count": null,
   "id": "d8bf1ae5",
   "metadata": {},
   "outputs": [],
   "source": []
  },
  {
   "cell_type": "code",
   "execution_count": null,
   "id": "167de757",
   "metadata": {},
   "outputs": [],
   "source": []
  },
  {
   "cell_type": "code",
   "execution_count": null,
   "id": "acb400fd",
   "metadata": {},
   "outputs": [],
   "source": []
  },
  {
   "cell_type": "code",
   "execution_count": null,
   "id": "c74c0fc5",
   "metadata": {},
   "outputs": [],
   "source": []
  },
  {
   "cell_type": "code",
   "execution_count": null,
   "id": "1df185b6",
   "metadata": {},
   "outputs": [],
   "source": []
  },
  {
   "cell_type": "code",
   "execution_count": null,
   "id": "158cc42d",
   "metadata": {},
   "outputs": [],
   "source": []
  },
  {
   "cell_type": "code",
   "execution_count": null,
   "id": "d16235e6",
   "metadata": {},
   "outputs": [],
   "source": []
  },
  {
   "cell_type": "code",
   "execution_count": null,
   "id": "17009fa9",
   "metadata": {},
   "outputs": [],
   "source": []
  },
  {
   "cell_type": "code",
   "execution_count": null,
   "id": "74b53952",
   "metadata": {},
   "outputs": [],
   "source": []
  },
  {
   "cell_type": "code",
   "execution_count": null,
   "id": "9e06a7c4",
   "metadata": {},
   "outputs": [],
   "source": []
  },
  {
   "cell_type": "code",
   "execution_count": null,
   "id": "a8cdb6ab",
   "metadata": {},
   "outputs": [],
   "source": []
  },
  {
   "cell_type": "code",
   "execution_count": null,
   "id": "055f9d54",
   "metadata": {},
   "outputs": [],
   "source": []
  },
  {
   "cell_type": "code",
   "execution_count": null,
   "id": "57888de2",
   "metadata": {},
   "outputs": [],
   "source": []
  },
  {
   "cell_type": "code",
   "execution_count": null,
   "id": "841dfe70",
   "metadata": {},
   "outputs": [],
   "source": []
  },
  {
   "cell_type": "code",
   "execution_count": null,
   "id": "f0b615c3",
   "metadata": {},
   "outputs": [],
   "source": []
  },
  {
   "cell_type": "code",
   "execution_count": null,
   "id": "76cfb532",
   "metadata": {},
   "outputs": [],
   "source": []
  },
  {
   "cell_type": "code",
   "execution_count": null,
   "id": "1eea6548",
   "metadata": {
    "scrolled": true
   },
   "outputs": [],
   "source": []
  },
  {
   "cell_type": "code",
   "execution_count": null,
   "id": "eaded1c0",
   "metadata": {},
   "outputs": [],
   "source": []
  },
  {
   "cell_type": "code",
   "execution_count": null,
   "id": "ba04eddf",
   "metadata": {},
   "outputs": [],
   "source": []
  },
  {
   "cell_type": "code",
   "execution_count": null,
   "id": "0a2254db",
   "metadata": {},
   "outputs": [],
   "source": []
  },
  {
   "cell_type": "code",
   "execution_count": null,
   "id": "b951d8f8",
   "metadata": {},
   "outputs": [],
   "source": []
  },
  {
   "cell_type": "code",
   "execution_count": null,
   "id": "1e5bbd38",
   "metadata": {},
   "outputs": [],
   "source": []
  },
  {
   "cell_type": "code",
   "execution_count": null,
   "id": "f70e23e0",
   "metadata": {},
   "outputs": [],
   "source": []
  },
  {
   "cell_type": "code",
   "execution_count": null,
   "id": "aea0df99",
   "metadata": {},
   "outputs": [],
   "source": []
  },
  {
   "cell_type": "code",
   "execution_count": null,
   "id": "8d877811",
   "metadata": {},
   "outputs": [],
   "source": []
  },
  {
   "cell_type": "code",
   "execution_count": null,
   "id": "1f5e052f",
   "metadata": {},
   "outputs": [],
   "source": []
  },
  {
   "cell_type": "code",
   "execution_count": null,
   "id": "a29dd659",
   "metadata": {},
   "outputs": [],
   "source": []
  },
  {
   "cell_type": "code",
   "execution_count": null,
   "id": "7f05dac2",
   "metadata": {},
   "outputs": [],
   "source": []
  },
  {
   "cell_type": "code",
   "execution_count": null,
   "id": "69562dd9",
   "metadata": {},
   "outputs": [],
   "source": []
  },
  {
   "cell_type": "code",
   "execution_count": null,
   "id": "72ad361c",
   "metadata": {},
   "outputs": [],
   "source": []
  },
  {
   "cell_type": "code",
   "execution_count": null,
   "id": "3d5424bb",
   "metadata": {},
   "outputs": [],
   "source": []
  },
  {
   "cell_type": "code",
   "execution_count": null,
   "id": "22b91196",
   "metadata": {},
   "outputs": [],
   "source": []
  },
  {
   "cell_type": "code",
   "execution_count": null,
   "id": "7a05a3ef",
   "metadata": {},
   "outputs": [],
   "source": []
  },
  {
   "cell_type": "code",
   "execution_count": null,
   "id": "884aeaed",
   "metadata": {},
   "outputs": [],
   "source": []
  },
  {
   "cell_type": "code",
   "execution_count": null,
   "id": "2375238f",
   "metadata": {},
   "outputs": [],
   "source": []
  },
  {
   "cell_type": "code",
   "execution_count": null,
   "id": "6e1687c2",
   "metadata": {},
   "outputs": [],
   "source": []
  },
  {
   "cell_type": "code",
   "execution_count": null,
   "id": "5497af39",
   "metadata": {},
   "outputs": [],
   "source": []
  },
  {
   "cell_type": "code",
   "execution_count": null,
   "id": "1b869fc3",
   "metadata": {},
   "outputs": [],
   "source": []
  },
  {
   "cell_type": "code",
   "execution_count": null,
   "id": "d3727141",
   "metadata": {},
   "outputs": [],
   "source": []
  },
  {
   "cell_type": "code",
   "execution_count": null,
   "id": "98324eff",
   "metadata": {},
   "outputs": [],
   "source": []
  }
 ],
 "metadata": {
  "kernelspec": {
   "display_name": "trading",
   "language": "python",
   "name": "python3"
  },
  "language_info": {
   "codemirror_mode": {
    "name": "ipython",
    "version": 3
   },
   "file_extension": ".py",
   "mimetype": "text/x-python",
   "name": "python",
   "nbconvert_exporter": "python",
   "pygments_lexer": "ipython3",
   "version": "3.11.11"
  }
 },
 "nbformat": 4,
 "nbformat_minor": 5
}
